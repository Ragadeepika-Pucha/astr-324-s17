{
 "cells": [
  {
   "cell_type": "markdown",
   "metadata": {},
   "source": [
    "# Homework 10: Problems\n",
    "### ASTR-324, Spring 2017, Ivezic & Juric, University of Washington\n",
    "https://github.com/uw-astr-324-s17/astr-324-s17\n",
    "\n",
    "\n",
    "## Problem 1: Unsupervised classification using Gausian Mixture Model\n",
    "\n",
    "GMM applied to 4-D data for variable stars from the SDSS and LINEAR surveys:\n",
    "\n",
    "-- SDSS u-g and g-i colors, \n",
    "\n",
    "-- LINEAR variability period (logP) and variability amplitude (A).\n",
    "\n",
    "For more details, including reading the data, see Homework 1 - this is the same data sample.  \n",
    "\n",
    "Use the code from [astroML fig. 6.6](http://www.astroml.org/book_figures/chapter6/fig_EM_metallicity.html) \n",
    "to search for clusters in the 4-dimensional g-i vs. logP vs. u-g vs. A space. \n",
    "\n",
    "Hint: adapt the code we used in notebook for Week 10 (GMM for asteroids)\n",
    "\n",
    "Assume that there are no more than 30 physical clusters. \n",
    "\n",
    "a) plot BIC (and AIC if you want) as a function of the assumed number of clusters; what is the optimal number of clusters?\n",
    "\n",
    "b) plot logP vs. g-i diagram and overplot ellipses (1.5 sigma level as in fig. 6.6)\n",
    "outlining each class for the best number of clusters. \n",
    "\n",
    "c) what fraction of sample belongs to the most populous cluster (hint: look at gmm\\_best.weights_) \n",
    "\n",
    "\n",
    "## Problem 2: Your feedback! \n",
    "\n",
    "Please answer each question with a few words - you will help us a lot! \n",
    "\n",
    "Don't worry about being (too) critical - your critiques are actually the most \n",
    "useful feedback to us! \n",
    "\n",
    "You can add your text directly below, after each question. \n",
    "\n",
    "1) did you find power point slides, or jupyter notebook approach, easier to follow?\n",
    "\n",
    "2) should we have spent more in-class time on analyzing notebook code line by line? \n",
    "\n",
    "3) should we have spent more or less in-class time on discussing theoretical background?\n",
    "\n",
    "4) were there any topics that could be dropped, or minimized in coverage? \n",
    "\n",
    "5) can you think of any additional topics that should have been covered, or discussed\n",
    "   in more detail? \n",
    "   \n",
    "6) should we have covered more non-astronomical applications (e.g. text processing,\n",
    "data harvesting from the web)? \n",
    "   \n",
    "7) did you find homeworks useful learning experience?\n",
    "\n",
    "8) were homeworks too easy, too hard, or just perfect? \n",
    "\n",
    "9) do you have any other advice on how to make this class more effective/relevant/interesting? \n",
    "\n",
    "\n",
    "   \n",
    "   \n",
    "\n",
    "\n",
    "\n",
    "\n",
    "\n",
    "\n"
   ]
  },
  {
   "cell_type": "markdown",
   "metadata": {},
   "source": [
    "<br>\n",
    "# Homework 1: Solutions"
   ]
  },
  {
   "cell_type": "markdown",
   "metadata": {},
   "source": [
    "### Some useful definitions and functions"
   ]
  },
  {
   "cell_type": "code",
   "execution_count": 1,
   "metadata": {
    "collapsed": false
   },
   "outputs": [],
   "source": [
    "import numpy as np\n",
    "from matplotlib import pyplot as plt\n",
    "from scipy.stats import norm\n",
    "from sklearn.mixture import GaussianMixture as GMM\n",
    "from astroML.datasets import fetch_LINEAR_geneva\n",
    "from astroML.decorators import pickle_results\n",
    "from astroML.plotting.tools import draw_ellipse"
   ]
  },
  {
   "cell_type": "markdown",
   "metadata": {},
   "source": [
    "This astroML function adjusts matplotlib settings for a uniform feel in the \n",
    "textbook. Note that with `usetex=True`, fonts are rendered with $\\LaTeX$. This \n",
    "may result in an error if $\\LaTeX$ is not installed on your system.  In that \n",
    "case, you can set usetex to `False`."
   ]
  },
  {
   "cell_type": "code",
   "execution_count": 2,
   "metadata": {
    "collapsed": false
   },
   "outputs": [],
   "source": [
    "from astroML.plotting import setup_text_plots\n",
    "setup_text_plots(fontsize=8, usetex=True)"
   ]
  },
  {
   "cell_type": "markdown",
   "metadata": {},
   "source": [
    "## Problem 1\n",
    "\n",
    "First obtain LINEAR data for 6,146 stars using astroML built-in function: "
   ]
  },
  {
   "cell_type": "code",
   "execution_count": 3,
   "metadata": {
    "collapsed": false
   },
   "outputs": [],
   "source": [
    "data = fetch_LINEAR_geneva()\n",
    "# N.B. this is a 4-dimensional dataset\n",
    "ug = data['ug']\n",
    "gi = data['gi']\n",
    "logP = data['logP']\n",
    "A = data['amp']\n",
    "X = np.vstack([data['gi'], data['logP'], data['ug'], data['amp']]).T"
   ]
  },
  {
   "cell_type": "code",
   "execution_count": 41,
   "metadata": {
    "collapsed": false,
    "scrolled": true
   },
   "outputs": [],
   "source": [
    "# and now compute GMM models & AIC/BIC..."
   ]
  }
 ],
 "metadata": {
  "kernelspec": {
   "display_name": "Python 2",
   "language": "python",
   "name": "python2"
  },
  "language_info": {
   "codemirror_mode": {
    "name": "ipython",
    "version": 2
   },
   "file_extension": ".py",
   "mimetype": "text/x-python",
   "name": "python",
   "nbconvert_exporter": "python",
   "pygments_lexer": "ipython2",
   "version": "2.7.13"
  }
 },
 "nbformat": 4,
 "nbformat_minor": 2
}
