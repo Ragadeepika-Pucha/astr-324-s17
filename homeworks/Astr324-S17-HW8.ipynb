{
 "cells": [
  {
   "cell_type": "markdown",
   "metadata": {},
   "source": [
    "# Homework 8: Problems\n",
    "### ASTR-324, Spring 2017, Ivezic & Juric, University of Washington\n",
    "https://github.com/uw-astr-324-s17/astr-324-s17\n",
    "\n",
    "\n",
    "## Problem 1: Principal Component Analysis\n",
    "\n",
    "PCA applied to 4-D data for variable stars from the SDSS and LINEAR surveys:\n",
    "\n",
    "-- SDSS u-g and g-i colors, \n",
    "\n",
    "-- LINEAR variability period (logP) and variability amplitude (A).\n",
    "\n",
    "For more details, see Homework 1 - this is the same data sample.  \n",
    "\n",
    "Read the data, run PCA (with four components), and then\n",
    "\n",
    "a) plot P2 vs. P1 diagram, color-coded using P3 and P4 as in Homework 1. \n",
    "From Homework 1, retain the g-i vs. u-g and amplitude vs. logP diagrams, \n",
    "color-coded by the u-g and g-i colors, for visual comparison. Comment\n",
    "what insights, if any, did PCA analysis bring. \n",
    "\n",
    "b) plot the g-i vs. u-g, amplitude vs. logP, P2 vs. P1 and P4 vs. P3 diagrams, \n",
    "color-coded using P1 and P2. Comment what insights, if any, did PCA analysis bring. \n",
    "\n",
    "\n",
    "## Problem 2: Regression and age-color relation for asteroids\n",
    "\n",
    "We will use age and color data for asteroid families shown in figure 1 from the paper \"An age–colour relationship for main-belt S-complex asteroids\" by Jedicke et al. (2004, Nature 429, 275), see http://www.astro.washington.edu/users/ivezic/Publications/jedicke.pdf\n",
    "\n",
    "Given these y(x) data (see below), with errors in both x and y, \n",
    "adapt the code introduced in \n",
    "[the last lecture](https://github.com/uw-astr-324-s17/astr-324-s17/blob/master/notebooks/Week-8-Thu.ipynb) \n",
    "by modifying the parabola (y(x) = a + b*x + c*x^2) fitter to fit instead\n",
    "the following function\n",
    "\n",
    "$$ y(x) = a + b*\\left[1-exp\\left(-(x/c)^d\\right)\\right].  $$\n",
    "\n",
    "Important: here x is time, not log(time)! But when you plot, use log(time)\n",
    "for x axis (see data below).\n",
    "\n",
    "a) What are the the best-fit values and standard errors for \n",
    "parameters a, b, c and d? \n",
    "\n",
    "b) Show the marginal distributions of fitted parameters (hint: use plot_mcmc)\n",
    "\n",
    "c) compare your best fit to the best fit from Jedicke et al. and comment\n",
    "\n",
    "d) set all age errors to 1000 years (i.e. to 0.001 in Myr): \n",
    "do you get a different best fit? "
   ]
  },
  {
   "cell_type": "markdown",
   "metadata": {},
   "source": [
    "<br>\n",
    "# Homework 1: Solutions"
   ]
  },
  {
   "cell_type": "markdown",
   "metadata": {},
   "source": [
    "### Some useful definitions and functions"
   ]
  },
  {
   "cell_type": "code",
   "execution_count": 30,
   "metadata": {
    "collapsed": false
   },
   "outputs": [],
   "source": [
    "import numpy as np\n",
    "from matplotlib import pyplot as plt\n",
    "from astroML.datasets import fetch_LINEAR_geneva\n",
    "from astroML.plotting import setup_text_plots\n",
    "setup_text_plots(fontsize=8, usetex=True)"
   ]
  },
  {
   "cell_type": "markdown",
   "metadata": {},
   "source": [
    "Let's define a few more useful functions:"
   ]
  },
  {
   "cell_type": "code",
   "execution_count": 31,
   "metadata": {
    "collapsed": false
   },
   "outputs": [],
   "source": [
    "def black_bg_subplot(*args, **kwargs):\n",
    "# copied from http://www.astroml.org/book_figures/chapter1/fig_moving_objects_multicolor.html\n",
    "    \"\"\"Create a subplot with black background\"\"\"\n",
    "    kwargs['facecolor'] = 'k'\n",
    "    ax = plt.subplot(*args, **kwargs)\n",
    "\n",
    "    # set ticks and labels to white\n",
    "    for spine in ax.spines.values():\n",
    "        spine.set_color('w')\n",
    "\n",
    "    for tick in ax.xaxis.get_major_ticks() + ax.yaxis.get_major_ticks():\n",
    "        for child in tick.get_children():\n",
    "            child.set_color('w')\n",
    "\n",
    "    return ax"
   ]
  },
  {
   "cell_type": "code",
   "execution_count": 32,
   "metadata": {
    "collapsed": true
   },
   "outputs": [],
   "source": [
    "def compute_color2(vec1, vec2, kG=5.0, aG=0.8, kB=2.0, aB=1.2):\n",
    "# adopted from http://www.astroml.org/book_figures/chapter1/fig_moving_objects_multicolor.html\n",
    "    \"\"\"\n",
    "    Compute the scatter-plot color using code adapted from astroML\n",
    "    http://www.astroml.org/book_figures/chapter1/fig_moving_objects_multicolor.html\n",
    "    \"\"\"\n",
    "    # define the base color scalings\n",
    "    # fudge factors aG and aB control the \"redness\" and \"greenness\"\n",
    "    # fudge factors kG and kB control dynamic range of color coding\n",
    "    # both a and k factors need some experimenting for the best results\n",
    "    R = np.ones_like(vec1)\n",
    "    G = aG * 10**(kG*vec1) \n",
    "    B = aB * 10**(kB*vec2) \n",
    "\n",
    "    # normalize color of each point to its maximum component\n",
    "    RGB = np.vstack([R, G, B])\n",
    "    RGB /= RGB.max(0)\n",
    "\n",
    "    # return an array of RGB colors, which is shape (n_points, 3)\n",
    "    return RGB.T"
   ]
  },
  {
   "cell_type": "markdown",
   "metadata": {},
   "source": [
    "## Problem 1\n",
    "\n",
    "First obtain LINEAR data for 6,146 stars using astroML built-in function: "
   ]
  },
  {
   "cell_type": "code",
   "execution_count": 22,
   "metadata": {
    "collapsed": false
   },
   "outputs": [],
   "source": [
    "data = fetch_LINEAR_geneva()\n",
    "# N.B. this is a 7-dimensional dataset\n",
    "ug = data['ug']\n",
    "gi = data['gi']\n",
    "logP = data['logP']\n",
    "A = data['amp']"
   ]
  },
  {
   "cell_type": "code",
   "execution_count": 23,
   "metadata": {
    "collapsed": false
   },
   "outputs": [
    {
     "data": {
      "text/plain": [
       "<matplotlib.text.Text at 0x115ad6690>"
      ]
     },
     "execution_count": 23,
     "metadata": {},
     "output_type": "execute_result"
    }
   ],
   "source": [
    "# first plot diagrams as in HW #1\n",
    "ugNorm = (ug-1.5)/(3.0-0.0)\n",
    "giNorm = (gi-0.5)/(2.5+1.0)\n",
    "color = compute_color2(ugNorm, giNorm, 5.0, 0.8, 2.0, 1.2)\n",
    "\n",
    "# set up the plot\n",
    "fig = plt.figure(figsize=(9, 7), facecolor='k')\n",
    "fig.subplots_adjust(left=0.1, right=0.95, wspace=0.2,\n",
    "                    bottom=0.1, top=0.93)\n",
    "\n",
    "# plot the color-color plot\n",
    "ax1 = black_bg_subplot(221)\n",
    "ax1.scatter(ug, gi, c=color, s=0.9, lw=0)\n",
    "ax1.set_xlim(0.0, 3.0)\n",
    "ax1.set_ylim(-1.0, 2.5)\n",
    "ax1.set_xlabel(r'${\\rm u-g}$', color='w')\n",
    "ax1.set_ylabel(r'${\\rm g-i}$', color='w')\n",
    "\n",
    "# plot the A vs. logP plot\n",
    "ax2 = black_bg_subplot(222)\n",
    "ax2.scatter(logP, A, c=color, s=0.9, lw=0)\n",
    "ax2.set_xlim(-1.5, 0.5)\n",
    "ax2.set_ylim(0.0, 1.5)\n",
    "ax2.set_xlabel(r'${\\rm logP \\, (days)}$', color='w')\n",
    "ax2.set_ylabel(r'${\\rm Amplitude \\,\\, (mag)}$', color='w')"
   ]
  },
  {
   "cell_type": "markdown",
   "metadata": {},
   "source": [
    "And then do the PCA analysis..."
   ]
  },
  {
   "cell_type": "code",
   "execution_count": 34,
   "metadata": {
    "collapsed": false
   },
   "outputs": [
    {
     "data": {
      "text/plain": [
       "PCA(copy=True, iterated_power='auto', n_components=4, random_state=None,\n",
       "  svd_solver='auto', tol=0.0, whiten=False)"
      ]
     },
     "execution_count": 34,
     "metadata": {},
     "output_type": "execute_result"
    }
   ],
   "source": [
    "from sklearn.decomposition import PCA\n",
    "X = np.column_stack((ug, gi, logP, A))\n",
    "pca = PCA(n_components=4, whiten=False)  \n",
    "pca.fit(X)  # call the work horse \n",
    "## now figure out how to get PC1-PC4..."
   ]
  },
  {
   "cell_type": "markdown",
   "metadata": {},
   "source": [
    "\n",
    "Now compute RGB color based on P3 and P4, etc..."
   ]
  },
  {
   "cell_type": "markdown",
   "metadata": {},
   "source": [
    "## Problem 2\n",
    "\n",
    "These age and color data for asteroid families are taken\n",
    "from the paper Jedicke et al. (2004, Nature 429, 275), see fig. 1 in http://www.astro.washington.edu/users/ivezic/Publications/jedicke.pdf\n",
    "\n"
   ]
  },
  {
   "cell_type": "code",
   "execution_count": 12,
   "metadata": {
    "collapsed": false
   },
   "outputs": [],
   "source": [
    "# Age is measured in 10^6 yrs (Myr)\n",
    "# Log10(age) and error (of Log(Age))\n",
    "logAge = np.asarray([3.398, 2.477, 3.398, 3.477, 3.301, 1.699, 2.699, 0.763,\n",
    "         2.301, 3.079,  3.176, 0.398])\n",
    "LageErr = np.asarray([0.087, 0.145, 0.174, 0.145, 0.109, 0.347, 0.174, 0.015,\n",
    "          0.217, 0.145, 0.145, 0.434])\n",
    "# SDSS principal asteroid color PC1 and its error (per family)\n",
    "PC1 = np.asarray([0.620, 0.476, 0.523, 0.582, 0.460, 0.479, 0.432, 0.351, \n",
    "       0.427, 0.522, 0.532, 0.311])\n",
    "PC1err = np.asarray([0.005, 0.015, 0.007, 0.011, 0.005, 0.032, 0.033, 0.047,\n",
    "        0.021, 0.015, 0.022, 0.027])\n",
    "# time/age on linear axes\n",
    "age = 10**logAge\n",
    "# and standard error propagation (although errors can be large)\n",
    "ageErr = age * LageErr * np.log(10)\n",
    "# set ageErr to 1000 years for all data points\n",
    "# ageErr = 0.001 + 0*ageErr"
   ]
  },
  {
   "cell_type": "code",
   "execution_count": 13,
   "metadata": {
    "collapsed": false
   },
   "outputs": [
    {
     "data": {
      "image/png": "[encoded data removed]",
      "text/plain": [
       "<matplotlib.figure.Figure at 0x110bfd8d0>"
      ]
     },
     "metadata": {},
     "output_type": "display_data"
    }
   ],
   "source": [
    "# let's take a quick look at the data to verify that it looks\n",
    "# similar to fig. 1 from Jedicke et al. \n",
    "logT = np.linspace(-0.1, 3.7, 100)\n",
    "time = np.power(10,logT)\n",
    "# the best fit from Jedicke et al. \n",
    "color = 0.32 + 1.0*(1-np.exp(-(time/2.5e4)**0.5))\n",
    "ax = plt.figure().add_subplot(111)\n",
    "ax.set_xlabel(\"log(age/Myr)\")\n",
    "ax.set_ylabel(\"SDSS PC$_1$ color\")\n",
    "ax.plot(logT,color, c='blue')\n",
    "ax.errorbar(logAge,PC1,xerr=LageErr, yerr=PC1err, color='r', \n",
    "             marker='.', ls='None', label='Observed')\n",
    "plt.show() "
   ]
  },
  {
   "cell_type": "code",
   "execution_count": 14,
   "metadata": {
    "collapsed": true
   },
   "outputs": [],
   "source": [
    "### now let's redo doMCMCparabola from the lecture to be able to fit instead\n",
    "### y = a + b*[1-exp(-(x/c)^d)]  \n",
    "import pymc as pymc\n",
    "from astroML.plotting.mcmc import plot_mcmc"
   ]
  }
 ],
 "metadata": {
  "kernelspec": {
   "display_name": "Python 2",
   "language": "python",
   "name": "python2"
  },
  "language_info": {
   "codemirror_mode": {
    "name": "ipython",
    "version": 2
   },
   "file_extension": ".py",
   "mimetype": "text/x-python",
   "name": "python",
   "nbconvert_exporter": "python",
   "pygments_lexer": "ipython2",
   "version": "2.7.13"
  }
 },
 "nbformat": 4,
 "nbformat_minor": 2
}
