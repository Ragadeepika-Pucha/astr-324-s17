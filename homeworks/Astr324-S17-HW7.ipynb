{
 "cells": [
  {
   "cell_type": "markdown",
   "metadata": {},
   "source": [
    "# Homework 7\n",
    "### ASTR-324, Spring 2017, Ivezic & Juric, University of Washington\n",
    "https://github.com/uw-astr-324-s17/astr-324-s17\n",
    "\n",
    "\n",
    "## Problem\n",
    "\n",
    "Using SDSS SkyServer/CasJobs to query and download subsets of data sets.\n",
    "\n",
    "Log on to SDSS CasJobs interface by following the link for 'CasJobs' that appear once you're logged into SkyServer, at http://skyserver.sdss.org. Then:\n",
    "\n",
    "1. Write a query that selects Galactic latitude and longitude, and the \"de-reddened\" $g$ and $r$ band magnitudes of stars (from table `Star`) in a 1-degree radius circle around two directions in the sky:\n",
    "\n",
    "$$ {\\rm Field\\, A}: \\alpha = 341.6^\\circ, \\delta = 31.7^\\circ $$\n",
    "$$ {\\rm Field\\, B}: \\alpha = 115.2^\\circ, \\delta = 32.7^\\circ $$\n",
    "\n",
    "Consult the [Schema Browser](https://skyserver.sdss.org/CasJobs/SchemaBrowser.aspx) to find the apropriate column names. Have the query store these into two MyDB tables, `fieldA` and `fieldB`.\n",
    "\n",
    "2. Download these tables as CSV (comma separated value) files.\n",
    "\n",
    "3. Use Python APIs of your choice (e.g., `numpy`, `Pandas`, or some other) to load these files in a Python notebook. Note that functions for loading CSV data already exist in nearly all of these APIs; don't write your own parser!\n",
    "\n",
    "4. Make a side-by-side $(ra, dec)$ plot for the two fields, to show the selected data truly spans only a 2-degree diameter circle.\n",
    "\n",
    "5. Make side-by-side color-magnitude diagrams (CMDs), with $g-r$ on the `x` axis, and $g$ on the `y` axis. Set the plot limits to show only values $-0.5 < g-r < 2$ and $14 < g < 22$ (note: use the \"astronomer's convention\" for the $y$ axis, i.e., flip it). The diagrams could either be scatter or density plots; choose what you feel is best to bring out any interesting features and/or differences.\n",
    "\n",
    "6. Comment on any similarities and differences you find in the plots created above."
   ]
  }
 ],
 "metadata": {
  "kernelspec": {
   "display_name": "Python 2",
   "language": "python",
   "name": "python2"
  },
  "language_info": {
   "codemirror_mode": {
    "name": "ipython",
    "version": 2
   },
   "file_extension": ".py",
   "mimetype": "text/x-python",
   "name": "python",
   "nbconvert_exporter": "python",
   "pygments_lexer": "ipython2",
   "version": "2.7.13"
  }
 },
 "nbformat": 4,
 "nbformat_minor": 2
}
