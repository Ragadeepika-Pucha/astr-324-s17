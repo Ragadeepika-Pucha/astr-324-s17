{
 "cells": [
  {
   "cell_type": "markdown",
   "metadata": {
    "slideshow": {
     "slide_type": "slide"
    }
   },
   "source": [
    "# Gettings Started\n",
    "\n",
    "M. Juric 2017 (based on notebooks by G. Richards, 2016)\n",
    "\n",
    "This notebook contains most everything that we need to get started.  It draws heavily from classes taught by Andy Connolly (http://cadence.lsst.org/introAstroML/) and Karen Leighly ([seminar.ouml.org](http://seminar.ouml.org))."
   ]
  },
  {
   "cell_type": "markdown",
   "metadata": {
    "slideshow": {
     "slide_type": "slide"
    }
   },
   "source": [
    "## Git and Github\n",
    "\n",
    "We will use a version control system tool called `git`, and an internet service called [GitHub](http://github.com), that will let you download the notebooks that Zeljko and I put into the class repository before each class.\n",
    "\n",
    "If you don't have one already, make an account on [GitHub](https://github.com/), where you can create your own repositories. Let's pause and make sure we all have a github account first!"
   ]
  },
  {
   "cell_type": "markdown",
   "metadata": {
    "slideshow": {
     "slide_type": "slide"
    }
   },
   "source": [
    "## Git\n",
    "To get Git for any platform, see: [https://git-scm.com/download/](https://git-scm.com/download/).\n",
    "\n",
    "If you're using a Mac, you'll have `git` installed already. Open a terminal window and run\n",
    "\n",
    "    $ which git\n",
    "\n",
    "For example:\n",
    "\n",
    "```\n",
    "$ which git\n",
    "/usr/bin/git\n",
    "\n",
    "$ git --version\n",
    "git version 2.10.1 (Apple Git-78)\n",
    "```\n",
    "\n",
    "Let's pause and make sure we all have git installed."
   ]
  },
  {
   "cell_type": "markdown",
   "metadata": {
    "slideshow": {
     "slide_type": "slide"
    }
   },
   "source": [
    "## Downloading the class repository\n",
    "\n",
    "Once Git is installed, make a place where you are going to put the class repository.  Perhaps in a git subdirectory if you think that you might use more repositories later (we might even for this class!).  \n",
    "```\n",
    "$ cd ~\n",
    "$ mkdir astr-324\n",
    "$ cd astr-324\n",
    "```\n",
    "\n",
    "Now we need to \"clone\" the class repository into your account\n",
    "\n",
    "```\n",
    "$ git clone https://github.com/uw-astr-324-s17/astr-324-s17\n",
    "```    \n",
    "\n",
    "This will make a subdirectory called \"astr-324-s17\" in which you will see a file called \"Week-01-Thu.ipynb\", which is the file that you are reading now.\n",
    "\n",
    "Before each class, you will want to update this repository so that you get any new files that we have put there for you. Do that with\n",
    "\n",
    "```\n",
    "$ cd ~/astr-324/astr-324-s17\n",
    "$ git pull\n",
    "```"
   ]
  },
  {
   "cell_type": "markdown",
   "metadata": {
    "slideshow": {
     "slide_type": "slide"
    }
   },
   "source": [
    "# Setting Up Your Computer\n",
    "\n",
    "Everyone will need to have the proper software environment in order to be able to participate in the course.  This can either be on the AST/PHY departmental machines or on your laptop.  Which is up to you, but it will be easier to run Jupyter Notebooks off your laptop."
   ]
  },
  {
   "cell_type": "markdown",
   "metadata": {
    "slideshow": {
     "slide_type": "slide"
    }
   },
   "source": [
    "# Software requirements\n",
    "\n",
    "    Anaconda Python 2.7.X  (not 3.X unless you know how to deal with the differences)\n",
    "\n",
    "    NumPy version 1.11+: efficient array operations\n",
    "    SciPy version 0.17+: scientific computing tools\n",
    "    matplotlib version 1.5+: plotting and visualization\n",
    "    jupyter version 1.0+: interactive computing (formerly IPython)\n",
    "    Scikit-learn version 0.17+: machine learning\n",
    "    astroML: an astronomical machine learning toolkit"
   ]
  },
  {
   "cell_type": "markdown",
   "metadata": {
    "slideshow": {
     "slide_type": "slide"
    }
   },
   "source": [
    "## Anaconda Installation\n",
    "\n",
    "If you don’t already have Anaconda Python 2.7.X, then go to \n",
    "https://www.continuum.io/downloads\n",
    "and download the installer of your choice (e.g., the graphical OSX installer.  Again for Python 2.7, not 3).\n",
    "Don't worry--it's free.\n",
    "\n",
    "Open the install package (it's easiest to use the graphical one) and follow the instructions. If asked, install \"**for you only**\".\n",
    "\n",
    "Open a **new** terminal window, and make sure your $PATH variable points to the Anaconda installation. You can do this by typing\n",
    "\n",
    "    [~]% which python\n",
    "\n",
    "The result should show the path to the newly-installed anaconda folder. If not, you must modify your $PATH variable to point to the anaconda directory as follows:"
   ]
  },
  {
   "cell_type": "markdown",
   "metadata": {
    "slideshow": {
     "slide_type": "slide"
    }
   },
   "source": [
    "### If Anaconda isn't in your path \n",
    "\n",
    "If you use `csh` or `tcsh`, add the following to your `.cshrc` or `.tcshrc` file:                                                                                                                                \n",
    "\n",
    "```\n",
    "set path=(~/anaconda/bin $path)\n",
    "```\n",
    "\n",
    "If you use `bash` instead, you’ll have to add the following to your .bashrc file:\n",
    "\n",
    "```\n",
    "PATH=\"$HOME/anaconda/bin:$PATH\"\n",
    "```\n",
    "\n",
    "Now close that terminal window and open a new one, and then type:\n",
    "\n",
    "```\n",
    "$ which python\n",
    "```\n",
    "\n",
    "Hopefully all is well now."
   ]
  },
  {
   "cell_type": "markdown",
   "metadata": {
    "slideshow": {
     "slide_type": "slide"
    }
   },
   "source": [
    "### Update your Anaconda distribution\n",
    "\n",
    "You can occasionally update your anaconda distribution with the following command:\n",
    "\n",
    "```\n",
    "$ conda update conda\n",
    "```\n",
    "\n",
    "Note that `conda` is the package management system that comes with anaconda.\n",
    "\n",
    "I’m currently running Python 2.7.13 via conda-4.3.14.  You don’t have to be doing *exactly* the same, but if you run into problems that I am not having, that would be a good place to start debugging.\n",
    "\n",
    "Conda will have installed most of the the other software packages listed above.   The exceptions are noted below."
   ]
  },
  {
   "cell_type": "markdown",
   "metadata": {
    "collapsed": true,
    "slideshow": {
     "slide_type": "slide"
    }
   },
   "source": [
    "## Installing astroML\n",
    "\n",
    "[astroML](http://www.astroml.org/) is the software library that goes together with [the textbook](http://press.princeton.edu/titles/10159.html).  Much of it is a series of wrappers to [scikit-learn](http://scikit-learn.org/), where Jake VanderPlas is one of the main contributors to each.  Jake has written an [Intro to AstroML](http://ieeexplore.ieee.org/stamp/stamp.jsp?arnumber=6382200) paper that is worth going through to give you an idea of the sorts of things that we'll be doing in the class.\n",
    "\n",
    "AstroML requires `scikit-learn`. Let's install that first using **conda**:\n",
    "\n",
    "```bash\n",
    "$ conda install scikit-learn\n",
    "```\n",
    "\n",
    "The astroML packages and add-ons can be installed using **pip** (the python package installer):\n",
    "\n",
    "```bash\n",
    "$ pip install astroML\n",
    "```\n",
    "\n",
    "followed by\n",
    "\n",
    "```bash\n",
    "$ pip install astroML_addons\n",
    "```\n"
   ]
  },
  {
   "cell_type": "markdown",
   "metadata": {
    "slideshow": {
     "slide_type": "slide"
    }
   },
   "source": [
    "## Installing other things\n",
    "\n",
    "We'll need a few other packages installed as we go along.  Here are the ones that I remembered to write down.  You can either install them now, or you can do it later (when you get an error message!).\n",
    "\n",
    "```bash\n",
    "$ conda install -c astropy astroquery\n",
    "```\n",
    "\n",
    "```bash\n",
    "$ pip install corner\n",
    "```"
   ]
  },
  {
   "cell_type": "markdown",
   "metadata": {
    "slideshow": {
     "slide_type": "slide"
    }
   },
   "source": [
    "## Python\n",
    "\n",
    "The course requirements were setup up to ensure that you have at least *some* (extended) experience with Python.  If you taken ASTR 300, this should be the case; if you don't know *any* Python at all, this class may be pretty tough going.  However, many of you might need a refresher.  A good place to start is **Appendix A** (more specifically A3) in the textbook.  \n",
    "\n",
    "I also recommend the [codecademy](https://www.codecademy.com/) course on Python.  It is free and does a good job of walking you through things that you need to learn.\n",
    "\n",
    "You might also be interested in [A Student’s Guide to Python for Physical Modeling](http://press.princeton.edu/titles/10644.html): Chapters 1-3 provide a good introduction to Python before getting into the \"physical modeling\" part.  It encourages the use of **spyder**, which is a matlab-like interactive interface for Python (I've never used it, personally).\n",
    "\n",
    "And, of course, you can google 'python tutorial' (or some such) and find a plethora of things that you may or may not like better."
   ]
  },
  {
   "cell_type": "markdown",
   "metadata": {
    "slideshow": {
     "slide_type": "slide"
    }
   },
   "source": [
    "\n",
    "## Jupyter notebooks\n",
    "\n",
    "In this class, we will use Python almost exclusively through Jupyter Notebooks. To start the notebook app, run:\n",
    "\n",
    "    $ jupyter notebook\n",
    "    \n",
    "This will pop up a web page in your default browser and show the Dashboard where you can navigate to a particular notebook or open a new one.  You can also open a notebook directly with \n",
    "\n",
    "    $ jupyter notebook Week-01-Thu.ipynb\n",
    "   \n",
    "If you are creating a new notebook, click on 'new' at the top-right of the page and select 'python'."
   ]
  },
  {
   "cell_type": "markdown",
   "metadata": {
    "collapsed": true,
    "slideshow": {
     "slide_type": "slide"
    }
   },
   "source": [
    "## Working with jupyter notebooks and IPython\n",
    "\n",
    "Notebooks have two primary cell types: 'Markdown' and 'Code'.    The Markdown cells are basically just for you to read.  The Code cells are meant to be executed (perhaps after you have filled in some blanks).  \n",
    "\n",
    "To execute a cell in the notebook, type '**shift-return**'. If you see a * in the square bracket to the left of the cell or a 'Busy' in the tab title, it means the command is in the process of running, and you need to wait for it to finish.\n",
    "\n",
    "The notebook is autosaved, so that when you return to a notebook, everything is the same as you left it. If you want to reset it, you can do “revert to checkpoint”.  If you save it yourself, you will create a checkpoint, and the original version will be unavailable.\n",
    "\n",
    "\n",
    "\n",
    "Here are some useful IPython commands to get you started (# followed by text indicates a comment and not what you type)!\n",
    "\n",
    "    In [ ]: ?          # basic help function.  Pops open a sub-frame at the bottom of page.  \n",
    "                         Close with \"x\".\n",
    "    \n",
    "    In [ ]: %quickref  # Pops open a quick reference card\n",
    "    \n",
    "    In [ ]: ! \t       # spawning out to the operating system; \n",
    "                         e.g files=!ls will fill the variable files \n",
    "                         with a list of files in your directory.\n",
    "\n",
    "\n",
    "IPython also contains a number of [“magic” commands](https://ipython.org/ipython-doc/dev/interactive/magics.html).\n",
    "Two examples are\n",
    "\n",
    "    In [ ]: %matplotlib inline  # makes plots within the web browser instead of popping up a new window\n",
    "    \n",
    "    In [ ]: %whos               # lists the vectors, etc. that you have defined.\n",
    "\n",
    "IPython also has lots of [keyboard shortcuts](https://ipython.org/ipython-doc/1/interactive/notebook.html#keyboard-shortcuts) – the main one is shift-enter to run a cell."
   ]
  },
  {
   "cell_type": "markdown",
   "metadata": {
    "slideshow": {
     "slide_type": "slide"
    }
   },
   "source": [
    "## NumPy\n",
    "\n",
    "NumPy is short for Numerical Python. It is the foundational package for scientific computing in Python. It is a library which will allow us to work with data structures called **arrays** that are more efficient for storing and manipulating data than other Python data structures (or C++ for that matter). \n",
    "\n",
    "For example, cut and paste this into a new cell, then type shift-enter to run it:"
   ]
  },
  {
   "cell_type": "code",
   "execution_count": 1,
   "metadata": {
    "collapsed": false
   },
   "outputs": [
    {
     "name": "stdout",
     "output_type": "stream",
     "text": [
      "[ 2  4  6  8 10 12 14 16 18 20 22 24 26 28 30 32 34 36 38 40]\n"
     ]
    }
   ],
   "source": [
    "import numpy as np\n",
    "xlist = [1,2,3,4,5,6,7,8,9,10,11,12,13,14,15,16,17,18,19,20]\n",
    "xarray = np.array(xlist)\n",
    "twice_xarray = 2*xarray\n",
    "print twice_xarray"
   ]
  },
  {
   "cell_type": "markdown",
   "metadata": {
    "slideshow": {
     "slide_type": "slide"
    }
   },
   "source": [
    "This is far better than creating a `for` loop over the entries in `xlist` or even something fancier like a \"list comprehension\""
   ]
  },
  {
   "cell_type": "code",
   "execution_count": 2,
   "metadata": {
    "collapsed": false
   },
   "outputs": [
    {
     "name": "stdout",
     "output_type": "stream",
     "text": [
      "[2, 4, 6, 8, 10, 12, 14, 16, 18, 20, 22, 24, 26, 28, 30, 32, 34, 36, 38, 40]\n"
     ]
    }
   ],
   "source": [
    "xlist = [1,2,3,4,5,6,7,8,9,10,11,12,13,14,15,16,17,18,19,20]\n",
    "twice_xlist = [2*x for x in xlist]\n",
    "print twice_xlist"
   ]
  },
  {
   "cell_type": "markdown",
   "metadata": {
    "slideshow": {
     "slide_type": "slide"
    }
   },
   "source": [
    "To load the Numpy library type:\n",
    "```python\n",
    "import numpy as np\n",
    "```    \n",
    "In fact, just plan on starting **every** new series of code cells with this!    \n",
    "\n",
    "The basic unit for numpy is an [ndarray](https://docs.scipy.org/doc/numpy/reference/arrays.ndarray.html).  See the link for examples of how to define, index, slice, etc. the array."
   ]
  },
  {
   "cell_type": "markdown",
   "metadata": {
    "slideshow": {
     "slide_type": "slide"
    }
   },
   "source": [
    "There are quite a few **methods** associated with arrays.  Some useful ones include:\n",
    "\n",
    "|Method |\tProperty|\n",
    "|-------|-----------|\n",
    "|np.zeros(5,float) |\tyields a 5-element array of zeros of type float |\n",
    "|a=np.empty(4) |\tyields a 4-element empty array |\n",
    "|a.fill(5.5) |\tfills that array with 5.5 for all elements |\n",
    "|np.arange(5) |\tyields an integer array of length 5 with increasing values | \n",
    "|b=np.random.normal(10,3,5) |\tyields a 5 element array of normally distributed numbers with mean 10 and variance 3 |\n",
    "|mask=b > 9 |\tcreates a boolean array determing which numbers are greater than 9 |\n",
    "|print b[mask] |\tprints the ones with values > 9 |\n",
    "|b[mask]=0 | sets the ones > 9 to zero |\n",
    "\n",
    "Arrays can be multidimensional, e.g., ```c=np.random.normal(10,3,(2,4))```, creates a 2 x 4 array with normally distributed numbers with mean 10 and variance 3.\n",
    "\n",
    "More methods for multidimensional arrays:\n",
    "\n",
    "|Method |\tProperty|\n",
    "|-------|-----------|\n",
    "|d=c[0,:] |\tgrabs the first (0th) row of c. |\n",
    "|d=c[1,:] |\tgrabs the second (1st) row of c. |\n",
    "|d=c[:,0] |\tgrabs the first column of c. |\n",
    "|c.dtype |\tdata type |\n",
    "|c.size |\ttotal number of elements |\n",
    "|c.ndim |\tnumber of dimensions |\n",
    "|c.shape |\tshape or dimensionality |\n",
    "|c.nbytes |\tmemory used (bytes) |\n",
    "|c.min() |\tgives the minimum of c |\n",
    "|c.max() |\tgives the maximum of c |\n",
    "|c.sum() |\tsum of all elements |\n",
    "|c.mean() |\tmean of all elements |\n",
    "|c.std() |\tstandard deviation of all elements |\n",
    "|c.sum(axis=0) | will present sum along the 0th axis (column direction). The result will have reduced dimensionality |\n",
    "\n",
    "You can also operate with arrays, for example, adding them together, multiplying them, multiplying or adding a constant. There are, however, \"broadcasting\" rules so that you need to make sure you know what you are doing when dealing with arrays of different sizes."
   ]
  },
  {
   "cell_type": "markdown",
   "metadata": {
    "slideshow": {
     "slide_type": "slide"
    }
   },
   "source": [
    "## SciPy\n",
    "\n",
    "\n",
    "[SciPy](http://docs.scipy.org/doc/scipy/reference/) is an \"open-source software for mathematics, science, and engineering\".  We 'import' it the same way that we import numpy:\n",
    "\n",
    "```python\n",
    "import scipy\n",
    "```\n",
    "\n",
    "SciPy is a suite of tools for data analysis including integration, statistical functions, interpolation.  It is built on top of Numpy. Where Numpy is intended for array *manipulation*, Scipy is intended for *analysis*. This is where many useful tools will be.  It may be worth looking at the users guide to get an idea of the kinds of functions are available.   N.B.  For some packages you need to import more than just the main scipy package.  So, for example to see what is available in the scipy.integrate package, do the following:\n",
    "\n",
    "```python\n",
    "import scipy.integrate\n",
    "scipy.integrate?\n",
    "```\n",
    "\n",
    "You can also make use of TAB completetion to see what is available\n",
    "\n",
    "```python\n",
    "scipy.integrate.[TAB]\n",
    "```\n",
    "\n",
    "The catch is that, since we are using notebooks, you need to have *imported* FIRST, because otherwise the computer doesn't know what you are asking about yet."
   ]
  },
  {
   "cell_type": "code",
   "execution_count": 3,
   "metadata": {
    "collapsed": true
   },
   "outputs": [],
   "source": [
    "# Example\n",
    "import scipy.integrate\n",
    "scipy.integrate?"
   ]
  },
  {
   "cell_type": "markdown",
   "metadata": {
    "slideshow": {
     "slide_type": "slide"
    }
   },
   "source": [
    "## Matplotlib\n",
    "\n",
    "It is generally useful to be able to visualize your data.  We will do that using the \n",
    "[matplotlib](http://matplotlib.org/) library.   Most of you should be familiar with it already, but we will likely be making some plots that are more complex than you are used to.  One nice resource is this [thumbnail gallery](http://matplotlib.org/gallery.html) which you can use to figure out how to make a new plot.\n",
    "\n",
    "Let's make sure that everything is working by making a simple plot\n"
   ]
  },
  {
   "cell_type": "code",
   "execution_count": 4,
   "metadata": {
    "collapsed": false,
    "slideshow": {
     "slide_type": "slide"
    }
   },
   "outputs": [
    {
     "data": {
      "image/png": "[encoded data removed]",
      "text/plain": [
       "<matplotlib.figure.Figure at 0x10aa6c450>"
      ]
     },
     "metadata": {},
     "output_type": "display_data"
    }
   ],
   "source": [
    "# magic command to make the figure pop up below instead of in a new window\n",
    "%matplotlib inline \n",
    "\n",
    "# invoke pyplot in matplotlib, give it an alias\n",
    "import matplotlib.pyplot as plt  \n",
    "import numpy as np\n",
    "\n",
    "x = np.linspace(0, 2*np.pi, 300)\n",
    "y = np.sin(x)\n",
    "plt.figure(figsize=(12,4))\n",
    "plt.plot(x, y)\n",
    "y2 = np.sin(x**2)\n",
    "plt.plot(x, y, label=r'$\\sin(x)$')\n",
    "plt.plot(x, y2, label=r'$\\sin(x^2)$')\n",
    "plt.title('Some functions')\n",
    "plt.xlabel('x')\n",
    "plt.ylabel('y')\n",
    "plt.grid()\n",
    "plt.legend();"
   ]
  },
  {
   "cell_type": "markdown",
   "metadata": {
    "slideshow": {
     "slide_type": "subslide"
    }
   },
   "source": [
    "You can change both the [marker/line styles](http://matplotlib.org/examples/lines_bars_and_markers/) and [colors](http://matplotlib.org/api/colors_api.html).  I highly recommend the use of the colors in the [palettable library](https://jiffyclub.github.io/palettable/).  You can see the colors at [http://colorbrewer2.org/](http://colorbrewer2.org/).\n",
    "\n",
    "Try making some changes to the code above and see what happens."
   ]
  },
  {
   "cell_type": "markdown",
   "metadata": {
    "slideshow": {
     "slide_type": "slide"
    }
   },
   "source": [
    "## Scikit-learn\n",
    "\n",
    "The [Scikit-learn library](http://scikit-learn.org/) forms the core of computing tools that we will use for this class.  The \"scikit\"s are add-ons to **scipy**.  Scikit-learn is the add-on for machine learning.\n",
    "\n",
    "It probably needs its own introductory tutorial as both the input and output may not be quite what you would have expected.    You might want to spend some time going through their quick start guide, user's guide and tutorials here: [http://scikit-learn.org/stable/documentation.html](http://scikit-learn.org/stable/documentation.html).\n",
    "\n",
    "Ironically, Scikit-learn is **NOT** really intended for Big Data (despite the title of the course).  We will be using it to learn the basics of machine learning and big data analysis.  However, we'll see that if you want to do any real Big Data analysis, you'll need other tools.\n"
   ]
  },
  {
   "cell_type": "markdown",
   "metadata": {
    "collapsed": true,
    "slideshow": {
     "slide_type": "slide"
    }
   },
   "source": [
    "## Intro to Everything\n",
    "\n",
    "Lastly, here is a tutorial on the whole scientific Python \"ecosystem\": [www.scipy-lectures.org](http://www.scipy-lectures.org/)"
   ]
  },
  {
   "cell_type": "markdown",
   "metadata": {
    "slideshow": {
     "slide_type": "slide"
    }
   },
   "source": [
    "## Let's practice some git!\n",
    "\n",
    "1. create a new repository on github, with a README file. Name it `astr324-test`.\n",
    "\n",
    "2. clone it using:\n",
    "```bash\n",
    "git clone https://github.com/YOURNAME/astr324-test\n",
    "```\n",
    "3. start Jupyter in the cloned directory\n",
    "```\n",
    "cd astr324-test\n",
    "jupyter notebook &\n",
    "```\n",
    "4. create a new Python 2 notebook. Name it `hello.ipynb`, and add a cell with the following piece of code:\n",
    "```python\n",
    "print \"Hello World!\"\n",
    "```\n",
    "5. make TextEdit your default editor (otherwise git will start `vi` any time in needs you to edit something). Run the following in the terminal window:\n",
    "```\n",
    "echo \"export EDITOR=/Applications/TextEdit.app/Contents/MacOS/TextEdit\" >> ~/.bashrc\n",
    "```\n",
    "6. add the notebook to your git repository and commit by running (in the terminal window) the following:\n",
    "```bash\n",
    "git add hello.ipynb\n",
    "git commit\n",
    "```\n",
    "7. see what happened:\n",
    "```bash\n",
    "git log\n",
    "```\n",
    "8. make another change in the Jupyter notebook. For example, add another cell with the following:\n",
    "```python\n",
    "x = 2+2\n",
    "x\n",
    "```\n",
    "9. see what happened\n",
    "```bash\n",
    "git status\n",
    "```\n",
    "10. commit changed files\n",
    "```\n",
    "git commit -a\n",
    "```\n",
    "11. \"push\" the changes to github\n",
    "```\n",
    "git push\n",
    "```\n",
    "12. go browse the result on github"
   ]
  },
  {
   "cell_type": "markdown",
   "metadata": {
    "slideshow": {
     "slide_type": "slide"
    }
   },
   "source": [
    "# Summary\n",
    "\n",
    "At this point, all of you should have:\n",
    "* A `GitHub` account and a basic understanding of `git`\n",
    "* Installed the Anaconda Python Distribution with Python 2.7\n",
    "* Installed AstroML\n",
    "* The ability to create and run Jupyter notebooks\n",
    "\n",
    "Now we're ready to do some astro-statistics!"
   ]
  }
 ],
 "metadata": {
  "anaconda-cloud": {},
  "celltoolbar": "Slideshow",
  "kernelspec": {
   "display_name": "Python 2",
   "language": "python",
   "name": "python2"
  },
  "language_info": {
   "codemirror_mode": {
    "name": "ipython",
    "version": 2
   },
   "file_extension": ".py",
   "mimetype": "text/x-python",
   "name": "python",
   "nbconvert_exporter": "python",
   "pygments_lexer": "ipython2",
   "version": "2.7.12"
  },
  "livereveal": {
   "scroll": true,
   "start_slideshow_at": "selected",
   "theme": "sky"
  }
 },
 "nbformat": 4,
 "nbformat_minor": 0
}
