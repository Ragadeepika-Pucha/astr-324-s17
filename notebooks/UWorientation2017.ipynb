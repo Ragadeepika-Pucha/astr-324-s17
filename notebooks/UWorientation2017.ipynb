{
 "cells": [
  {
   "cell_type": "markdown",
   "metadata": {},
   "source": [
    "# Astrobiology student orientation: Introduction to python\n",
    "###  Zeljko Ivezic,  Department of Astronomy, University of Washington; June 29, 2017 \n",
    "\n",
    "This file is available as: \n",
    "https://github.com/uw-astr-324-s17/astr-324-s17/notebooks/UWorientation2017.ipynb"
   ]
  },
  {
   "cell_type": "markdown",
   "metadata": {},
   "source": [
    "## Python\n",
    "\n",
    "Python is a computer programming language (other famous languages are \n",
    "Java, C, C++, Fortran, Basic...). \n",
    "\n",
    "Learning Python is super easy if you programmed before in another computer language. \n",
    "\n",
    "If you never programmed before, you will have to learn the concepts of how to program a computer, and the basics of Python language, at the same time. Once you learn even\n",
    "a little bit of programming, you will feel like a Super Hero! I promise :) \n",
    "\n",
    "Besides, you don't have a choice if you are interested in science - science is \n",
    "quantitative and often requires data manipulation. These days in most sciences, \n",
    "and notably in physical sciences, we are collecting lots and lots and lots of data.\n",
    "You cannot process so much data by hand - you need to use computers! \n",
    "\n",
    "Fortunately, there are a lot of excellent resources out there that can help you \n",
    "to learn Python (and other languages). Python is a good choice because it's easy to learn\n",
    "(it's much more intuitive and similar to English than some other computer languages),\n",
    "it's powerful and fast, and lots of people are using it (including non-science fields).\n",
    "\n",
    "The last point is important because you can recycle and reuse other people's code\n",
    "(remember the kindergarten: sharing is nice!). You can think of it as producing \n",
    "Lego blocks, and then constructing different things (castles, houses, bridges, spaceships)\n",
    "using the same blocks. Indeed, computers are pretty stupid - they only understand 0's and\n",
    "1's ones. Everything else they do is powered by various pieces of computer code - Lego blocks!\n",
    "\n",
    "Btw, your iPhone, being a computer, is a dummy, too! But it has a lot of code in itself and thus it goes by *smart* phone... \n",
    "\n",
    "As a good resource to start with, please check out the [codecademy](https://www.codecademy.com/) course on Python.  It is free and does a good job of \n",
    "walking you through things that you need to learn. The course claims that you \n",
    "can learn *a lot of* of useful Python in about 13 hours. That's not a lot and it would\n",
    "be a great investment of your time. With an hour per day, in two weeks you can call \n",
    "yourself a Python programmer!  \n",
    "\n",
    "If in the course of this work you discover you were born to be a Python programmer \n",
    "and an astronomer, as a next learning step you may want to take a look at these \n",
    "Python excellent lectures on Python in astronomy (for juniors!) by UW astronomy professor Toby Smith:\n",
    "[Astr 300](https://github.com/UWashington-Astro300/Astro300-W17)\n"
   ]
  },
  {
   "cell_type": "markdown",
   "metadata": {},
   "source": [
    "##  Our Project Today\n",
    "\n",
    "In the next two hours, we will go over an example of scientific data manipulation. \n",
    "We will learn how to:\n",
    "\n",
    "1) read a data file \n",
    "\n",
    "2) compute a new quantity using quantities read from the file\n",
    "\n",
    "3) make a plot and perform basic statistical analysis \n",
    "\n",
    "4) save the plot\n",
    "\n",
    "5) save the new quantities into a file \n",
    "\n",
    "I will assume that you don't have any programming experience; however,\n",
    "I will also assume that you have read \n",
    "[Chapter 1](http://press.princeton.edu/chapters/s10644.pdf) from \n",
    "the textbook [A Student’s Guide to Python for Physical Modeling](http://press.princeton.edu/titles/10644.html). \n",
    "\n",
    "We could write our code in a file, using an editor, and then run it \n",
    "from the command line in a terminal window. Instead, we will use \n",
    "a more popular method - Jupyter notebooks. "
   ]
  },
  {
   "cell_type": "markdown",
   "metadata": {},
   "source": [
    "## Jupyter notebooks\n",
    "\n",
    "This file is called a \"Jupyter notebook\" and it offers a convenient \n",
    "way to integrate text and figures with the actual Python code. \n",
    "\n",
    "To start the notebook application, run in your terminal window:  \n",
    "\n",
    "$ jupyter notebook \n",
    " \n",
    "This will pop up a web page in your default browser and show the Dashboard,\n",
    "where you can navigate to a particular notebook (by following directory\n",
    "structure) or open a new one. If you are creating a new notebook, click \n",
    "on 'new' at the top-right of the page and select 'python'.\n",
    "\n",
    "You can also open this notebook directly with: \n",
    "\n",
    "$ jupyter notebook UWorientation2017.ipynb   \n",
    "\n",
    "(you need to do this in the same directory where the file UWorientation2017.ipynb is)"
   ]
  },
  {
   "cell_type": "markdown",
   "metadata": {},
   "source": [
    "## Working with jupyter notebooks and IPython\n",
    "\n",
    "Notebooks have two primary cell types: 'Markdown' and 'Code'.    The Markdown cells are basically just for you to read.  The Code cells are meant to be executed (perhaps after you have filled in some blanks).  \n",
    "\n",
    "To execute a cell in the notebook, type '**shift-return**'. If you see a * in the square bracket to the left of the cell or a 'Busy' in the tab title, it means the command is in the process of running, and you need to wait for it to finish.\n",
    "\n",
    "The notebook is autosaved, so that when you return to a notebook, everything is the same as you left it. If you want to reset it, you can do “revert to checkpoint”.  If you save it yourself, you will create a checkpoint, and the original version will be unavailable.\n",
    "\n",
    "Let's try it! \n",
    "\n",
    "New cells can be made with '**Insert Cell Below**' (pull-down menu) and then executed with '**shift-return**'"
   ]
  },
  {
   "cell_type": "code",
   "execution_count": 5,
   "metadata": {
    "collapsed": false
   },
   "outputs": [
    {
     "name": "stdout",
     "output_type": "stream",
     "text": [
      "4.78\n"
     ]
    }
   ],
   "source": [
    "a = 3.14\n",
    "b = 2*a - 1.5\n",
    "print b"
   ]
  },
  {
   "cell_type": "code",
   "execution_count": 6,
   "metadata": {
    "collapsed": false
   },
   "outputs": [
    {
     "name": "stdout",
     "output_type": "stream",
     "text": [
      "5.0\n"
     ]
    }
   ],
   "source": [
    "# this is a comment!\n",
    "# is the following weird to you? (it shouldn't be if you read Chapter 1)\n",
    "a = 3.0 \n",
    "a = a + 2\n",
    "print a"
   ]
  },
  {
   "cell_type": "markdown",
   "metadata": {},
   "source": [
    "## Working with jupyter notebooks and IPython\n",
    "Here are some useful IPython commands to get you started (# followed by text indicates a comment and not what you type)!\n",
    "\n",
    "    In [ ]: ?          # basic help function.  Pops open a sub-frame at the bottom of page.  \n",
    "                         Close with \"x\".\n",
    "    \n",
    "    In [ ]: %quickref  # Pops open a quick reference card\n",
    "    \n",
    "    In [ ]: ! \t       # spawning out to the operating system; \n",
    "                         e.g files=!ls will fill the variable files \n",
    "                         with a list of files in your directory.\n",
    "\n",
    "\n",
    "IPython also contains a number of [“magic” commands](https://ipython.org/ipython-doc/dev/interactive/magics.html).\n",
    "Two examples are\n",
    "\n",
    "    In [ ]: %matplotlib inline  # makes plots within the web browser instead of popping up a new window\n",
    "    \n",
    "    In [ ]: %whos               # lists the vectors, etc. that you have defined.\n",
    "\n",
    "IPython also has lots of [keyboard shortcuts](https://ipython.org/ipython-doc/1/interactive/notebook.html#keyboard-shortcuts) – the main one is shift-enter to run a cell."
   ]
  },
  {
   "cell_type": "code",
   "execution_count": 7,
   "metadata": {
    "collapsed": false
   },
   "outputs": [
    {
     "name": "stdout",
     "output_type": "stream",
     "text": [
      "Variable   Type      Data/Info\n",
      "------------------------------\n",
      "a          float     5.0\n",
      "b          float     4.78\n",
      "dtype1     dtype     [('galtype', 'S1'), ('D', '<f8'), ('V', '<f8')]\n",
      "filename   str       hubble.txt\n",
      "np         module    <module 'numpy' from '/Us<...>ages/numpy/__init__.pyc'>\n"
     ]
    }
   ],
   "source": [
    "%whos"
   ]
  },
  {
   "cell_type": "markdown",
   "metadata": {},
   "source": [
    "##  Reading data from a file\n",
    "\n",
    "First, copy this [data file](https://github.com/uw-astr-324-s17/astr-324-s17/notebooks/hubble.txt) to the same local directory \n",
    "where this file (UWorientation2017.ipynb) is located. \n",
    "\n",
    "Our data file (hubble.txt) lists distance and recession velocity data for 40 \n",
    "[spiral](https://upload.wikimedia.org/wikipedia/commons/thumb/c/c5/M101_hires_STScI-PRC2006-10a.jpg/1280px-M101_hires_STScI-PRC2006-10a.jpg)\n",
    "and \n",
    "[elliptical](https://3c1703fe8d.site.internapcdn.net/newman/gfx/news/hires/2016/2-whydosomegal.jpg)\n",
    "galaxies:\n",
    "\n",
    "\\# data for galaxies: type (Spiral vs. Elliptical), velocity (km/s) and distance (Mpc)\n",
    "\n",
    "\\#     type     V          D \n",
    "\n",
    "S    28.78   2020.4\n",
    "\n",
    "S    13.52    972.6\n",
    " \n"
   ]
  },
  {
   "cell_type": "code",
   "execution_count": 8,
   "metadata": {
    "collapsed": false
   },
   "outputs": [],
   "source": [
    "import numpy as np         # we need tools from numpy\n",
    "filename = 'hubble.txt'    # this is our file \n",
    "dtype1 = np.dtype([('galtype', '|S1'), ('D', 'f8'), ('V', 'f8')])  # and contains 3 columns\n",
    "mydata = np.loadtxt(filename, dtype=dtype1, skiprows=2)   # here we read it into array mydata\n",
    "# and now make one-dimensional arrays for plotting and manipulations\n",
    "V = mydata['V']\n",
    "D = mydata['D']"
   ]
  },
  {
   "cell_type": "code",
   "execution_count": 9,
   "metadata": {
    "collapsed": false
   },
   "outputs": [
    {
     "name": "stdout",
     "output_type": "stream",
     "text": [
      "40\n",
      "[ 2020.4   972.6   516.1  1521.   1344.6   615.4   807.3  1029.4   774.\n",
      "   864.9   607.1   330.7  1658.7   328.1  1374.5   718.7  1416.3  1581.1\n",
      "  2028.9  1980.4  1751.7   260.6  1191.1  2119.8  1618.2   626.7   694.5\n",
      "  1023.1   747.1  1965.6  1154.6  1890.1  1243.2  1334.6   928.4  1632.9\n",
      "   513.4   791.    298.8   364.6]\n",
      "[ 28.78  13.52   7.26  20.87  20.22   7.69  13.91  17.3   11.17  12.2\n",
      "  12.31   6.32  23.89   5.97  20.08   7.34  20.24  22.57  27.82  27.16\n",
      "  23.64   6.33  17.5   28.41  20.91   6.66   9.44  13.84   8.62  28.71\n",
      "  16.81  25.62  17.94  16.9   11.26  22.11   9.63  12.49   4.93   5.13]\n"
     ]
    }
   ],
   "source": [
    "# let's see what we have\n",
    "print V.size\n",
    "print V\n",
    "print D"
   ]
  },
  {
   "cell_type": "code",
   "execution_count": 10,
   "metadata": {
    "collapsed": false
   },
   "outputs": [
    {
     "data": {
      "image/png": "[encoded data removed]",
      "text/plain": [
       "<matplotlib.figure.Figure at 0x113d609d0>"
      ]
     },
     "metadata": {},
     "output_type": "display_data"
    }
   ],
   "source": [
    "# let's plot it\n",
    "from matplotlib import pyplot as plt\n",
    "%matplotlib inline\n",
    "fig, ax = plt.subplots()\n",
    "plt.scatter(D, V, c='red', label='galaxies')\n",
    "plt.xlim(0.0, 30)\n",
    "plt.ylim(0, 2200)\n",
    "plt.xlabel('$D \\, (Mpc)$')\n",
    "plt.ylabel('$v \\, (km/s)$')\n",
    "plt.title('Galaxies')\n",
    "plt.legend()\n",
    "plt.show()"
   ]
  },
  {
   "cell_type": "markdown",
   "metadata": {},
   "source": [
    "Cool, our first plot! \n",
    "\n",
    "The galaxy velocity is increasing linearly with distance. This relationship \n",
    "is known as the [Hubble's Law](http://hyperphysics.phy-astr.gsu.edu/hbase/Astro/hubble.html), \n",
    "after [Edwin Hubble](https://en.wikipedia.org/wiki/Edwin_Hubble) who first measured in 1929.\n",
    "\n",
    "## Analysis and Plotting\n",
    "\n",
    "Let's now see if spiral and elliptical galaxies follow the same relationship. \n",
    "\n",
    "To do so, let's first separate data for spiral and elliptical galaxies and \n",
    "then plot them using different symbols."
   ]
  },
  {
   "cell_type": "code",
   "execution_count": 11,
   "metadata": {
    "collapsed": false
   },
   "outputs": [],
   "source": [
    "spirals = mydata['galtype'] == 'S'\n",
    "ellipticals = mydata['galtype'] == 'E'\n",
    "VS = mydata['V'][spirals]\n",
    "DS = mydata['D'][spirals]\n",
    "VE = mydata['V'][ellipticals]\n",
    "DE = mydata['D'][ellipticals]"
   ]
  },
  {
   "cell_type": "code",
   "execution_count": 12,
   "metadata": {
    "collapsed": false
   },
   "outputs": [
    {
     "data": {
      "image/png": "[encoded data removed]",
      "text/plain": [
       "<matplotlib.figure.Figure at 0x117cc9e50>"
      ]
     },
     "metadata": {},
     "output_type": "display_data"
    }
   ],
   "source": [
    "fig, ax = plt.subplots()\n",
    "plt.scatter(DE, VE, c='red', label='elliptical galaxies')\n",
    "plt.scatter(DS, VS, c='blue', label='spiral galaxies')\n",
    "plt.xlim(0.0, 30)\n",
    "plt.ylim(0, 2200)\n",
    "plt.xlabel('$D \\, (Mpc)$')\n",
    "plt.ylabel('$v \\, (km/s)$')\n",
    "plt.title('Galaxies')\n",
    "plt.legend()\n",
    "plt.show()"
   ]
  },
  {
   "cell_type": "markdown",
   "metadata": {},
   "source": [
    "It's not obvious whether spiral and elliptical galaxies follow the same relationship... \n",
    "\n",
    "To do a better statistical job, let's fit straight lines to data, separately for spiral and elliptical galaxies. \n",
    "\n",
    "So, we want to fit a line $y = a*x + b$ to our data (y is V and x is D). \n",
    "\n",
    "We will not go into derivation of how to do that and will simply state that\n",
    "the \"best-fit\" line is the line that **minimizes residuals between the line and data**.\n",
    "More precisely, we want to minimize the sum of the squares of the residuals (why it is \n",
    "so you will learn in your statistics class), and this method is called **the Least Squares Method**. It is one of the most important matematical methods used in science! \n",
    "\n",
    "By requiring that the sum of the squares of the residuals is as small as possible (that is,\n",
    "it is \"minimized\"), we can derive two equations for computing the slope a and intercept b:\n",
    "\n",
    "$$ a = \\frac{\\sum_{i=1}^N (x_i - \\bar{x})(y_i - \\bar{y})}{\\sum_{i=1}^N (x_i - \\bar{x})^2} $$\n",
    "\n",
    "and\n",
    "\n",
    "$$ b = \\bar{y} - a \\bar{x} $$\n",
    "\n",
    "Here, the symbol $\\sum$ means sum ($\\sum_{i=1}^N$ means that we sum over N points) and\n",
    "$\\bar{x}$ and $\\bar{y}$ are the mean values of x data and y data, respectively:\n",
    "\n",
    "$$ \\bar{x} = {1\\over N}\\sum_{i=1}^N x_i $$ and $$\\bar{y} = {1\\over N}\\sum_{i=1}^N y_i $$\n",
    "\n",
    "Let's now compute a and b separately for spiral and elliptical galaxies. In order\n",
    "to avoid typing everything twice, we will define a function (all good programmers are lazy!).\n",
    "\n"
   ]
  },
  {
   "cell_type": "code",
   "execution_count": 13,
   "metadata": {
    "collapsed": true
   },
   "outputs": [],
   "source": [
    "# given two vectors, x and y, return a and b for the model fit y = a*x + b\n",
    "def LSQ(x, y):\n",
    "    xmean = np.mean(x)\n",
    "    ymean = np.mean(y)\n",
    "    a = np.sum((x-xmean)*(y-ymean)) / np.sum((x-xmean)**2) \n",
    "    b = ymean - a*xmean\n",
    "    return a, b"
   ]
  },
  {
   "cell_type": "code",
   "execution_count": 14,
   "metadata": {
    "collapsed": false,
    "scrolled": true
   },
   "outputs": [
    {
     "name": "stdout",
     "output_type": "stream",
     "text": [
      "69.2884118324 36.0296753787\n",
      "78.2693133142 -138.875100496\n"
     ]
    }
   ],
   "source": [
    "# let's now call our little helper function LSQ\n",
    "aS, bS = LSQ(DS,VS)\n",
    "aE, bE = LSQ(DE,VE)\n",
    "# and print the results\n",
    "print aS, bS\n",
    "print aE, bE"
   ]
  },
  {
   "cell_type": "markdown",
   "metadata": {},
   "source": [
    "These numbers for the slopes (69.29 and 78.27) are certainly different, but it's not \n",
    "obvious whether they are different **a lot**, or perhaps just a tiny \n",
    "bit:  let's plot them! "
   ]
  },
  {
   "cell_type": "code",
   "execution_count": 15,
   "metadata": {
    "collapsed": false
   },
   "outputs": [
    {
     "data": {
      "image/png": "[encoded data removed]",
      "text/plain": [
       "<matplotlib.figure.Figure at 0x117efb810>"
      ]
     },
     "metadata": {},
     "output_type": "display_data"
    }
   ],
   "source": [
    "# first let's generate lines on a grid of D values\n",
    "Dgrid = np.linspace(0, 30, 2)\n",
    "vSfit = aS*Dgrid + bS\n",
    "vEfit = aE*Dgrid + bE \n",
    "# and replot everything\n",
    "fig, ax = plt.subplots()\n",
    "plt.scatter(DE, VE, c='red', label='elliptical galaxies')\n",
    "plt.scatter(DS, VS, c='blue', label='spiral galaxies')\n",
    "# fits:\n",
    "plt.plot(Dgrid, vEfit, c='red')\n",
    "plt.plot(Dgrid, vSfit, c='blue')\n",
    "plt.xlim(0.0, 30)\n",
    "plt.ylim(0, 2200)\n",
    "plt.xlabel('$D \\, (Mpc)$')\n",
    "plt.ylabel('$v \\, (km/s)$')\n",
    "plt.title('Galaxies')\n",
    "plt.legend()\n",
    "plt.show()"
   ]
  },
  {
   "cell_type": "markdown",
   "metadata": {},
   "source": [
    "Well, are the blue and red lines **very** different or not? \n",
    "\n",
    "We need more help from statistics! We need to know what is the **uncertainty**\n",
    "of these best-fit slopes. \n",
    "\n",
    "We can compute uncertainty of the slope as \n",
    "\n",
    "$$ \\sigma_a^2 = \\frac{\\sigma^2}{\\sum_{i=1}^N (x_i - \\bar{x})^2} $$\n",
    "\n",
    "and of the intercept as \n",
    "\n",
    "$$ \\sigma_b^2 = \\sigma^2 \\left(\\frac{1}{N} + \\frac{\\bar{x}^2}{\\sum_{i=1}^N (x_i - \\bar{x})^2} \\right),$$ \n",
    "\n",
    "where \n",
    "$$ \\sigma^2 = \\sum_{i=1}^N (a*x_i+b-y_i)^2. $$\n",
    "\n",
    "Let's expand our little helper function to compute these uncertainties.\n"
   ]
  },
  {
   "cell_type": "code",
   "execution_count": 16,
   "metadata": {
    "collapsed": true
   },
   "outputs": [],
   "source": [
    "# given two vectors, x and y, return a and b for the model fit y = a*x + b\n",
    "def LSQ(x, y):\n",
    "    xmean = np.mean(x)\n",
    "    ymean = np.mean(y)\n",
    "    a = np.sum((x-xmean)*(y-ymean)) / np.sum((x-xmean)**2) \n",
    "    b = ymean - a*xmean\n",
    "    sigma2 = np.sum((a*x+b-y)**2) \n",
    "    aUnc = np.sqrt(sigma2/np.sum((x-xmean)**2))\n",
    "    Ndata = x.size\n",
    "    bUnc = np.sqrt(sigma2) * (1/Ndata + xmean**2/np.sum((x-xmean)**2))\n",
    "    return a, b, aUnc, bUnc"
   ]
  },
  {
   "cell_type": "code",
   "execution_count": 17,
   "metadata": {
    "collapsed": false
   },
   "outputs": [
    {
     "name": "stdout",
     "output_type": "stream",
     "text": [
      "69.2884118324 +- 11.3738632233\n",
      "78.2693133142 +- 15.6545215255\n"
     ]
    }
   ],
   "source": [
    "aS, bS, aUncS, bUncS = LSQ(DS,VS)\n",
    "aE, bE, aUncE, bUncE = LSQ(DE,VE)\n",
    "# and print the results\n",
    "print aS, '+-', aUncS\n",
    "print aE, '+-', aUncE"
   ]
  },
  {
   "cell_type": "markdown",
   "metadata": {},
   "source": [
    "All right! We can now see that the difference between the slopes \n",
    "(78.269-69.288 = 9.0) is smaller than the uncertainties with \n",
    "which we \"measured\" the slopes (11.4 and 15.7). \n",
    "\n",
    "Therefore, we have no reason to suspect that the slopes are\n",
    "significantly different (alternatively, we can say that we have insufficient \n",
    "evidence to reject the hypothesis that the slopes are equal). \n",
    "\n",
    "The measured difference in slopes can be simply explained as a\n",
    "statistical fluctuation (e.g. if you roll dice a few times, it is\n",
    "likely that you will not always get the same number). "
   ]
  },
  {
   "cell_type": "code",
   "execution_count": 18,
   "metadata": {
    "collapsed": false
   },
   "outputs": [
    {
     "name": "stdout",
     "output_type": "stream",
     "text": [
      "72.8125041722 +- 13.9156173528\n",
      "-37.1630348274 +- 74.0664755619\n"
     ]
    }
   ],
   "source": [
    "# out of curiosity, let's compute the slope and intercept\n",
    "# for all galaxies (i.e. without separation into spirals and ellipticals) \n",
    "a, b, aUnc, bUnc = LSQ(D,V)\n",
    "print a, '+-', aUnc\n",
    "print b, '+-', bUnc"
   ]
  },
  {
   "cell_type": "markdown",
   "metadata": {},
   "source": [
    " ##  Saving data to a file\n",
    "To complete our little project, let's compute the best-fit\n",
    "predictions for velocities using this fit, and then save\n",
    "the input data and this new quantity to output file "
   ]
  },
  {
   "cell_type": "code",
   "execution_count": 19,
   "metadata": {
    "collapsed": false
   },
   "outputs": [],
   "source": [
    "# first we compute another vector\n",
    "Vfit = a*D + b\n",
    "data = np.zeros(V.size, dtype=[('var1', 'U6'), ('var2', float), ('var3', float), ('var4', float)])\n",
    "data['var1'] = np.array(type)\n",
    "data['var2'] = np.array(D)\n",
    "data['var3'] = np.array(V)\n",
    "data['var4'] = np.array(Vfit)\n",
    "np.savetxt('hubble2.txt', data, fmt=\"%10s %8.2f %8.1f %8.1f\") "
   ]
  },
  {
   "cell_type": "code",
   "execution_count": 20,
   "metadata": {
    "collapsed": false
   },
   "outputs": [
    {
     "name": "stdout",
     "output_type": "stream",
     "text": [
      "40\n"
     ]
    }
   ],
   "source": [
    "# let's test that we can read it back!\n",
    "filename = 'hubble2.txt'    # this is our new file \n",
    "dtype1 = np.dtype([('galtype', '|S1'), ('D', 'f8'), ('V', 'f8'), ('Vfit', 'f8')])  # and contains 4 columns\n",
    "mydata2 = np.loadtxt(filename, dtype=dtype1, skiprows=0)   # here we read it into array mydata2\n",
    "print mydata2.size"
   ]
  },
  {
   "cell_type": "code",
   "execution_count": null,
   "metadata": {
    "collapsed": true
   },
   "outputs": [],
   "source": []
  }
 ],
 "metadata": {
  "kernelspec": {
   "display_name": "Python 2",
   "language": "python",
   "name": "python2"
  },
  "language_info": {
   "codemirror_mode": {
    "name": "ipython",
    "version": 2
   },
   "file_extension": ".py",
   "mimetype": "text/x-python",
   "name": "python",
   "nbconvert_exporter": "python",
   "pygments_lexer": "ipython2",
   "version": "2.7.13"
  }
 },
 "nbformat": 4,
 "nbformat_minor": 2
}
